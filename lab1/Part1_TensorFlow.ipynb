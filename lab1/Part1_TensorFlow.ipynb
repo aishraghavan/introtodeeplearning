{
  "nbformat": 4,
  "nbformat_minor": 0,
  "metadata": {
    "accelerator": "GPU",
    "colab": {
      "name": "Part1_TensorFlow.ipynb",
      "provenance": [],
      "collapsed_sections": [
        "WBk0ZDWY-ff8"
      ]
    },
    "kernelspec": {
      "display_name": "Python 3",
      "language": "python",
      "name": "python3"
    },
    "language_info": {
      "codemirror_mode": {
        "name": "ipython",
        "version": 3
      },
      "file_extension": ".py",
      "mimetype": "text/x-python",
      "name": "python",
      "nbconvert_exporter": "python",
      "pygments_lexer": "ipython3",
      "version": "3.7.7"
    }
  },
  "cells": [
    {
      "cell_type": "markdown",
      "metadata": {
        "id": "WBk0ZDWY-ff8"
      },
      "source": [
        "<table align=\"center\">\n",
        "  <td align=\"center\"><a target=\"_blank\" href=\"http://introtodeeplearning.com\">\n",
        "        <img src=\"http://introtodeeplearning.com/images/colab/mit.png\" style=\"padding-bottom:5px;\" />\n",
        "      Visit MIT Deep Learning</a></td>\n",
        "  <td align=\"center\"><a target=\"_blank\" href=\"https://colab.research.google.com/github/aamini/introtodeeplearning/blob/master/lab1/Part1_TensorFlow.ipynb\">\n",
        "        <img src=\"http://introtodeeplearning.com/images/colab/colab.png?v2.0\"  style=\"padding-bottom:5px;\" />Run in Google Colab</a></td>\n",
        "  <td align=\"center\"><a target=\"_blank\" href=\"https://github.com/aamini/introtodeeplearning/blob/master/lab1/Part1_TensorFlow.ipynb\">\n",
        "        <img src=\"http://introtodeeplearning.com/images/colab/github.png\"  height=\"70px\" style=\"padding-bottom:5px;\"  />View Source on GitHub</a></td>\n",
        "</table>\n",
        "\n",
        "# Copyright Information\n"
      ]
    },
    {
      "cell_type": "code",
      "metadata": {
        "id": "3eI6DUic-6jo"
      },
      "source": [
        "# Copyright 2020 MIT 6.S191 Introduction to Deep Learning. All Rights Reserved.\n",
        "# \n",
        "# Licensed under the MIT License. You may not use this file except in compliance\n",
        "# with the License. Use and/or modification of this code outside of 6.S191 must\n",
        "# reference:\n",
        "#\n",
        "# © MIT 6.S191: Introduction to Deep Learning\n",
        "# http://introtodeeplearning.com\n",
        "#"
      ],
      "execution_count": null,
      "outputs": []
    },
    {
      "cell_type": "markdown",
      "metadata": {
        "id": "57knM8jrYZ2t"
      },
      "source": [
        "# Lab 1: Intro to TensorFlow and Music Generation with RNNs\n",
        "\n",
        "In this lab, you'll get exposure to using TensorFlow and learn how it can be used for solving deep learning tasks. Go through the code and run each cell. Along the way, you'll encounter several ***TODO*** blocks -- follow the instructions to fill them out before running those cells and continuing.\n",
        "\n",
        "\n",
        "# Part 1: Intro to TensorFlow\n",
        "\n",
        "## 0.1 Install TensorFlow\n",
        "\n",
        "TensorFlow is a software library extensively used in machine learning. Here we'll learn how computations are represented and how to define a simple neural network in TensorFlow. For all the labs in 6.S191 2020, we'll be using the latest version of TensorFlow, TensorFlow 2, which affords great flexibility and the ability to imperatively execute operations, just like in Python. You'll notice that TensorFlow 2 is quite similar to Python in its syntax and imperative execution. Let's install TensorFlow and a couple of dependencies.\n"
      ]
    },
    {
      "cell_type": "code",
      "metadata": {
        "id": "Tir1zwmeO_57",
        "outputId": "9d59af03-d5b0-4c0c-9123-c8b38e6a5ada"
      },
      "source": [
        "pip freeze"
      ],
      "execution_count": null,
      "outputs": [
        {
          "output_type": "stream",
          "text": [
            "absl-py @ file:///opt/concourse/worker/volumes/live/5183a274-c173-4ec1-5db6-bf74e5e0e067/volume/absl-py_1600297518967/work\r\n",
            "alabaster==0.7.12\r\n",
            "anaconda-client==1.7.2\r\n",
            "anaconda-navigator==1.9.12\r\n",
            "anaconda-project==0.8.3\r\n",
            "applaunchservices==0.2.1\r\n",
            "appnope==0.1.0\r\n",
            "appscript @ file:///opt/concourse/worker/volumes/live/aa928f42-721f-468a-5637-76f7349085f8/volume/appscript_1594840167539/work\r\n",
            "argh==0.26.2\r\n",
            "asn1crypto==1.3.0\r\n",
            "astor==0.8.1\r\n",
            "astroid @ file:///opt/concourse/worker/volumes/live/b22b518b-f584-4586-5ee9-55bfa4fca96e/volume/astroid_1592495912194/work\r\n",
            "astropy==4.0.1.post1\r\n",
            "atomicwrites==1.4.0\r\n",
            "attrs==19.3.0\r\n",
            "autopep8 @ file:///tmp/build/80754af9/autopep8_1592412889138/work\r\n",
            "Babel==2.8.0\r\n",
            "backcall==0.2.0\r\n",
            "backports.functools-lru-cache==1.6.1\r\n",
            "backports.shutil-get-terminal-size==1.0.0\r\n",
            "backports.tempfile==1.0\r\n",
            "backports.weakref==1.0.post1\r\n",
            "beautifulsoup4==4.9.1\r\n",
            "bitarray @ file:///opt/concourse/worker/volumes/live/6d8f03aa-2825-465e-7154-8514475a0909/volume/bitarray_1594753921133/work\r\n",
            "bkcharts==0.2\r\n",
            "bleach==3.1.5\r\n",
            "bokeh @ file:///opt/concourse/worker/volumes/live/4dce277b-856c-418f-50a0-50eb18d48058/volume/bokeh_1593187628308/work\r\n",
            "boto==2.49.0\r\n",
            "Bottleneck==1.3.2\r\n",
            "brotlipy==0.7.0\r\n",
            "certifi==2020.6.20\r\n",
            "cffi==1.14.0\r\n",
            "chardet==3.0.4\r\n",
            "click==7.1.2\r\n",
            "cloudpickle @ file:///tmp/build/80754af9/cloudpickle_1594141588948/work\r\n",
            "clyent==1.2.2\r\n",
            "colorama==0.4.3\r\n",
            "conda==4.8.5\r\n",
            "conda-build==3.20.3\r\n",
            "conda-package-handling @ file:///opt/concourse/worker/volumes/live/41a2ba95-d84c-4c06-4d6e-5665866bc5b4/volume/conda-package-handling_1603018173200/work\r\n",
            "conda-verify==3.4.2\r\n",
            "contextlib2==0.6.0.post1\r\n",
            "cryptography==2.9.2\r\n",
            "cycler==0.10.0\r\n",
            "Cython @ file:///opt/concourse/worker/volumes/live/a8b919bf-06b6-4be5-60d8-71d16518c421/volume/cython_1594833990717/work\r\n",
            "cytoolz==0.10.1\r\n",
            "dask @ file:///tmp/build/80754af9/dask-core_1594156306305/work\r\n",
            "decorator==4.4.2\r\n",
            "defusedxml==0.6.0\r\n",
            "diff-match-patch @ file:///tmp/build/80754af9/diff-match-patch_1594828741838/work\r\n",
            "distributed @ file:///opt/concourse/worker/volumes/live/0a62cbc9-591a-4d87-7487-c239010d690a/volume/distributed_1594750312816/work\r\n",
            "docutils==0.16\r\n",
            "entrypoints==0.3\r\n",
            "et-xmlfile==1.0.1\r\n",
            "fastcache==1.1.0\r\n",
            "filelock==3.0.12\r\n",
            "flake8==3.8.3\r\n",
            "Flask==1.1.2\r\n",
            "fsspec==0.7.4\r\n",
            "future==0.18.2\r\n",
            "gast==0.2.2\r\n",
            "gevent @ file:///opt/concourse/worker/volumes/live/272caec7-c260-4aae-6e70-894795c188a9/volume/gevent_1593009579780/work\r\n",
            "glob2==0.7\r\n",
            "gmpy2==2.0.8\r\n",
            "google-pasta==0.2.0\r\n",
            "greenlet==0.4.16\r\n",
            "grpcio @ file:///opt/concourse/worker/volumes/live/b5e6cc9f-d048-411b-5e0a-34cf579ea9aa/volume/grpcio_1597424489035/work\r\n",
            "gym==0.18.0\r\n",
            "h5py==2.10.0\r\n",
            "HeapDict==1.0.1\r\n",
            "html5lib @ file:///tmp/build/80754af9/html5lib_1593446221756/work\r\n",
            "idna @ file:///tmp/build/80754af9/idna_1593446292537/work\r\n",
            "imageio @ file:///tmp/build/80754af9/imageio_1594161405741/work\r\n",
            "imagesize==1.2.0\r\n",
            "importlib-metadata @ file:///opt/concourse/worker/volumes/live/84197498-cbc0-4436-7ce0-03c4490b7a28/volume/importlib-metadata_1593446431408/work\r\n",
            "intervaltree @ file:///tmp/build/80754af9/intervaltree_1594361675072/work\r\n",
            "ipykernel @ file:///opt/concourse/worker/volumes/live/18b922c7-3041-4126-5434-cac748d45c19/volume/ipykernel_1594755374448/work/dist/ipykernel-5.3.2-py3-none-any.whl\r\n",
            "ipython @ file:///opt/concourse/worker/volumes/live/7ea70a71-5624-4799-50b3-3b90e07922f3/volume/ipython_1593447385860/work\r\n",
            "ipython-genutils==0.2.0\r\n",
            "ipywidgets==7.5.1\r\n",
            "isort==4.3.21\r\n",
            "itsdangerous==1.1.0\r\n",
            "jdcal==1.4.1\r\n",
            "jedi @ file:///opt/concourse/worker/volumes/live/114a62c0-dd60-4a40-6382-85abb31b5f6e/volume/jedi_1592841953086/work\r\n",
            "Jinja2==2.11.2\r\n",
            "joblib @ file:///tmp/build/80754af9/joblib_1594236160679/work\r\n",
            "json5==0.9.5\r\n",
            "jsonschema==3.2.0\r\n",
            "jupyter==1.0.0\r\n",
            "jupyter-client @ file:///tmp/build/80754af9/jupyter_client_1594826976318/work\r\n",
            "jupyter-console==6.1.0\r\n",
            "jupyter-core==4.6.3\r\n",
            "jupyterlab==2.1.5\r\n",
            "jupyterlab-server @ file:///tmp/build/80754af9/jupyterlab_server_1594164409481/work\r\n",
            "Keras-Applications @ file:///tmp/build/80754af9/keras-applications_1594366238411/work\r\n",
            "Keras-Preprocessing==1.1.0\r\n",
            "keyring @ file:///opt/concourse/worker/volumes/live/9f4aa601-8a6f-42a7-4180-58f1f835bf99/volume/keyring_1593109772323/work\r\n",
            "kiwisolver==1.2.0\r\n",
            "lazy-object-proxy==1.4.3\r\n",
            "libarchive-c==2.9\r\n",
            "llvmlite==0.33.0+1.g022ab0f\r\n",
            "locket==0.2.0\r\n",
            "lxml @ file:///opt/concourse/worker/volumes/live/0dfefafa-9e58-455e-535c-75e73a127cfd/volume/lxml_1594826856790/work\r\n",
            "Markdown @ file:///opt/concourse/worker/volumes/live/4dd1d028-bdcb-4acc-732b-a399c086db80/volume/markdown_1602689110591/work\r\n",
            "MarkupSafe==1.1.1\r\n",
            "matplotlib @ file:///opt/concourse/worker/volumes/live/34dd81d3-0a70-4e5e-5ad6-be36ca7e59f7/volume/matplotlib-base_1592846084794/work\r\n",
            "mccabe==0.6.1\r\n",
            "mistune==0.8.4\r\n",
            "mitdeeplearning==0.1.2\r\n",
            "mkl-fft==1.1.0\r\n",
            "mkl-random==1.1.1\r\n",
            "mkl-service==2.3.0\r\n",
            "mock==4.0.2\r\n",
            "more-itertools==8.4.0\r\n",
            "mpmath==1.1.0\r\n",
            "msgpack==1.0.0\r\n",
            "multipledispatch==0.6.0\r\n",
            "navigator-updater==0.2.1\r\n",
            "nbconvert==5.6.1\r\n",
            "nbformat==5.0.7\r\n",
            "networkx @ file:///tmp/build/80754af9/networkx_1594377231366/work\r\n",
            "nltk @ file:///tmp/build/80754af9/nltk_1592496090529/work\r\n",
            "nose==1.3.7\r\n",
            "notebook==6.0.3\r\n",
            "numba==0.50.1\r\n",
            "numexpr==2.7.1\r\n",
            "numpy==1.18.5\r\n",
            "numpydoc @ file:///tmp/build/80754af9/numpydoc_1594166760263/work\r\n",
            "olefile==0.46\r\n",
            "openpyxl @ file:///tmp/build/80754af9/openpyxl_1594167385094/work\r\n",
            "opt-einsum==3.1.0\r\n",
            "packaging==20.4\r\n",
            "pandas @ file:///opt/concourse/worker/volumes/live/38d1301c-8fa9-4d2f-662e-34dddf33b183/volume/pandas_1592841668171/work\r\n",
            "pandocfilters==1.4.2\r\n",
            "parso==0.7.0\r\n",
            "partd==1.1.0\r\n",
            "path==13.1.0\r\n",
            "pathlib2==2.3.5\r\n",
            "pathtools==0.1.2\r\n",
            "patsy==0.5.1\r\n",
            "pep8==1.7.1\r\n",
            "pexpect==4.8.0\r\n",
            "pickleshare==0.7.5\r\n",
            "Pillow @ file:///opt/concourse/worker/volumes/live/05b3bc99-cf9f-44f2-42cf-267ed3a55922/volume/pillow_1594307311725/work\r\n",
            "pkginfo==1.5.0.1\r\n",
            "pluggy==0.13.1\r\n",
            "ply==3.11\r\n",
            "prometheus-client==0.8.0\r\n",
            "prompt-toolkit==3.0.5\r\n",
            "protobuf==3.13.0\r\n",
            "psutil==5.7.0\r\n",
            "ptyprocess==0.6.0\r\n",
            "py @ file:///tmp/build/80754af9/py_1593446248552/work\r\n",
            "pycodestyle==2.6.0\r\n",
            "pycosat==0.6.3\r\n",
            "pycparser @ file:///tmp/build/80754af9/pycparser_1594388511720/work\r\n",
            "pycrypto==2.6.1\r\n",
            "pycurl==7.43.0.5\r\n",
            "pydocstyle @ file:///tmp/build/80754af9/pydocstyle_1592848020240/work\r\n",
            "pydotplus==2.0.2\r\n",
            "pyflakes==2.2.0\r\n",
            "pyglet==1.5.0\r\n",
            "Pygments==2.6.1\r\n",
            "pylint @ file:///opt/concourse/worker/volumes/live/42ede439-2571-4cb2-513c-394625d2381b/volume/pylint_1592496039330/work\r\n",
            "pyodbc===4.0.0-unsupported\r\n",
            "pyOpenSSL @ file:///tmp/build/80754af9/pyopenssl_1594392929924/work\r\n",
            "pyparsing==2.4.7\r\n",
            "pyrsistent==0.16.0\r\n",
            "PySocks==1.7.1\r\n",
            "pytest==5.4.3\r\n",
            "python-dateutil==2.8.1\r\n",
            "python-jsonrpc-server @ file:///tmp/build/80754af9/python-jsonrpc-server_1594397536060/work\r\n",
            "python-language-server @ file:///opt/concourse/worker/volumes/live/b528bc67-8964-47eb-5268-7d9c1a3b621a/volume/python-language-server_1594161912847/work\r\n",
            "pytz==2020.1\r\n",
            "PyWavelets==1.1.1\r\n",
            "PyYAML==5.3.1\r\n",
            "pyzmq==19.0.1\r\n",
            "QDarkStyle==2.8.1\r\n",
            "QtAwesome==0.7.2\r\n",
            "qtconsole @ file:///tmp/build/80754af9/qtconsole_1592848611704/work\r\n",
            "QtPy==1.9.0\r\n",
            "regex @ file:///opt/concourse/worker/volumes/live/5c3450d5-f152-477e-507e-094a7be51d80/volume/regex_1593435586246/work\r\n",
            "requests @ file:///tmp/build/80754af9/requests_1592841827918/work\r\n",
            "rope==0.17.0\r\n",
            "Rtree==0.9.4\r\n",
            "ruamel-yaml==0.15.87\r\n",
            "scikit-image==0.16.2\r\n",
            "scikit-learn @ file:///opt/concourse/worker/volumes/live/eab838ab-55a5-40d0-5cbd-f1854d35aa9d/volume/scikit-learn_1592503039331/work\r\n",
            "scipy @ file:///opt/concourse/worker/volumes/live/14622691-c324-4e90-5a99-87aced91207b/volume/scipy_1592930535761/work\r\n",
            "seaborn==0.10.1\r\n",
            "Send2Trash==1.5.0\r\n",
            "simplegeneric==0.8.1\r\n",
            "singledispatch==3.4.0.3\r\n",
            "six==1.15.0\r\n",
            "snowballstemmer==2.0.0\r\n",
            "sortedcollections==1.2.1\r\n",
            "sortedcontainers==2.2.2\r\n",
            "soupsieve==2.0.1\r\n",
            "Sphinx @ file:///tmp/build/80754af9/sphinx_1594223420021/work\r\n",
            "sphinxcontrib-applehelp==1.0.2\r\n",
            "sphinxcontrib-devhelp==1.0.2\r\n",
            "sphinxcontrib-htmlhelp==1.0.3\r\n",
            "sphinxcontrib-jsmath==1.0.1\r\n",
            "sphinxcontrib-qthelp==1.0.3\r\n",
            "sphinxcontrib-serializinghtml==1.1.4\r\n",
            "sphinxcontrib-websupport @ file:///tmp/build/80754af9/sphinxcontrib-websupport_1593446360927/work\r\n",
            "spyder @ file:///opt/concourse/worker/volumes/live/61c0997d-fdda-449a-74ef-2dc857091585/volume/spyder_1594830748659/work\r\n",
            "spyder-kernels @ file:///opt/concourse/worker/volumes/live/777779d4-59ba-4287-6811-2fccb6a6b6c9/volume/spyder-kernels_1594751610086/work\r\n",
            "SQLAlchemy @ file:///opt/concourse/worker/volumes/live/701c360b-024a-4c1d-72ce-e82e6bfb4620/volume/sqlalchemy_1593446320654/work\r\n",
            "statsmodels==0.11.1\r\n",
            "sympy @ file:///opt/concourse/worker/volumes/live/794b4585-6914-43d5-6dd6-9c84fb6d47ed/volume/sympy_1594236608820/work\r\n",
            "tables==3.6.1\r\n",
            "tblib==1.6.0\r\n",
            "tensorboard==2.0.0\r\n",
            "tensorflow==2.0.0\r\n",
            "tensorflow-estimator==2.0.0\r\n",
            "termcolor==1.1.0\r\n",
            "terminado==0.8.3\r\n",
            "testpath==0.4.4\r\n",
            "threadpoolctl @ file:///tmp/tmp9twdgx9k/threadpoolctl-2.1.0-py3-none-any.whl\r\n",
            "toml @ file:///tmp/build/80754af9/toml_1592853716807/work\r\n",
            "toolz==0.10.0\r\n",
            "tornado==6.0.4\r\n",
            "tqdm @ file:///tmp/build/80754af9/tqdm_1593446365756/work\r\n",
            "traitlets==4.3.3\r\n",
            "typed-ast==1.4.1\r\n",
            "typing-extensions @ file:///tmp/build/80754af9/typing_extensions_1592847887441/work\r\n",
            "ujson==1.35\r\n",
            "unicodecsv==0.14.1\r\n",
            "urllib3==1.25.9\r\n",
            "watchdog @ file:///opt/concourse/worker/volumes/live/fe5d349c-1d61-4feb-6b8a-cbc5288b20a8/volume/watchdog_1593447347275/work\r\n",
            "wcwidth @ file:///tmp/build/80754af9/wcwidth_1593447189090/work\r\n",
            "webencodings==0.5.1\r\n",
            "Werkzeug==1.0.1\r\n",
            "widgetsnbextension==3.5.1\r\n",
            "wrapt==1.11.2\r\n",
            "wurlitzer @ file:///opt/concourse/worker/volumes/live/59acb45c-07e7-4304-57af-e84f3889d3ef/volume/wurlitzer_1594753863419/work\r\n",
            "xlrd==1.2.0\r\n",
            "XlsxWriter==1.2.9\r\n",
            "xlwings==0.19.5\r\n",
            "xlwt==1.3.0\r\n",
            "xmltodict==0.12.0\r\n",
            "yapf @ file:///tmp/build/80754af9/yapf_1593528177422/work\r\n",
            "zict==2.0.0\r\n",
            "zipp==3.1.0\r\n",
            "zope.event==4.4\r\n",
            "zope.interface==4.7.1\r\n"
          ],
          "name": "stdout"
        },
        {
          "output_type": "stream",
          "text": [
            "Note: you may need to restart the kernel to use updated packages.\n"
          ],
          "name": "stdout"
        }
      ]
    },
    {
      "cell_type": "code",
      "metadata": {
        "scrolled": true,
        "id": "pup6GF80O_58",
        "outputId": "8fcdcca3-72df-4602-ff83-2574983dc25b"
      },
      "source": [
        "pip install mitdeeplearning"
      ],
      "execution_count": null,
      "outputs": [
        {
          "output_type": "stream",
          "text": [
            "Requirement already satisfied: mitdeeplearning in /Users/aishwaryaraghavan/opt/anaconda3/lib/python3.7/site-packages (0.1.2)\n",
            "Requirement already satisfied: tqdm in /Users/aishwaryaraghavan/opt/anaconda3/lib/python3.7/site-packages (from mitdeeplearning) (4.47.0)\n",
            "Requirement already satisfied: gym in /Users/aishwaryaraghavan/opt/anaconda3/lib/python3.7/site-packages (from mitdeeplearning) (0.18.0)\n",
            "Requirement already satisfied: regex in /Users/aishwaryaraghavan/opt/anaconda3/lib/python3.7/site-packages (from mitdeeplearning) (2020.6.8)\n",
            "Requirement already satisfied: numpy in /Users/aishwaryaraghavan/opt/anaconda3/lib/python3.7/site-packages (from mitdeeplearning) (1.18.5)\n",
            "Requirement already satisfied: tensorflow>=2.0.0a in /Users/aishwaryaraghavan/opt/anaconda3/lib/python3.7/site-packages (from mitdeeplearning) (2.0.0)\n",
            "Requirement already satisfied: cloudpickle<1.7.0,>=1.2.0 in /Users/aishwaryaraghavan/opt/anaconda3/lib/python3.7/site-packages (from gym->mitdeeplearning) (1.5.0)\n",
            "Requirement already satisfied: pyglet<=1.5.0,>=1.4.0 in /Users/aishwaryaraghavan/opt/anaconda3/lib/python3.7/site-packages (from gym->mitdeeplearning) (1.5.0)\n",
            "Requirement already satisfied: Pillow<=7.2.0 in /Users/aishwaryaraghavan/opt/anaconda3/lib/python3.7/site-packages (from gym->mitdeeplearning) (7.2.0)\n",
            "Requirement already satisfied: scipy in /Users/aishwaryaraghavan/opt/anaconda3/lib/python3.7/site-packages (from gym->mitdeeplearning) (1.5.0)\n",
            "Requirement already satisfied: opt-einsum>=2.3.2 in /Users/aishwaryaraghavan/opt/anaconda3/lib/python3.7/site-packages (from tensorflow>=2.0.0a->mitdeeplearning) (3.1.0)\n",
            "Requirement already satisfied: tensorflow-estimator<2.1.0,>=2.0.0 in /Users/aishwaryaraghavan/opt/anaconda3/lib/python3.7/site-packages (from tensorflow>=2.0.0a->mitdeeplearning) (2.0.0)\n",
            "Requirement already satisfied: keras-preprocessing>=1.0.5 in /Users/aishwaryaraghavan/opt/anaconda3/lib/python3.7/site-packages (from tensorflow>=2.0.0a->mitdeeplearning) (1.1.0)\n",
            "Requirement already satisfied: absl-py>=0.7.0 in /Users/aishwaryaraghavan/opt/anaconda3/lib/python3.7/site-packages (from tensorflow>=2.0.0a->mitdeeplearning) (0.10.0)\n",
            "Requirement already satisfied: google-pasta>=0.1.6 in /Users/aishwaryaraghavan/opt/anaconda3/lib/python3.7/site-packages (from tensorflow>=2.0.0a->mitdeeplearning) (0.2.0)\n",
            "Requirement already satisfied: grpcio>=1.8.6 in /Users/aishwaryaraghavan/opt/anaconda3/lib/python3.7/site-packages (from tensorflow>=2.0.0a->mitdeeplearning) (1.31.0)\n",
            "Requirement already satisfied: wheel>=0.26 in /Users/aishwaryaraghavan/opt/anaconda3/lib/python3.7/site-packages (from tensorflow>=2.0.0a->mitdeeplearning) (0.34.2)\n",
            "Requirement already satisfied: six>=1.10.0 in /Users/aishwaryaraghavan/opt/anaconda3/lib/python3.7/site-packages (from tensorflow>=2.0.0a->mitdeeplearning) (1.15.0)\n",
            "Requirement already satisfied: tensorboard<2.1.0,>=2.0.0 in /Users/aishwaryaraghavan/opt/anaconda3/lib/python3.7/site-packages (from tensorflow>=2.0.0a->mitdeeplearning) (2.0.0)\n",
            "Requirement already satisfied: termcolor>=1.1.0 in /Users/aishwaryaraghavan/opt/anaconda3/lib/python3.7/site-packages (from tensorflow>=2.0.0a->mitdeeplearning) (1.1.0)\n",
            "Requirement already satisfied: wrapt>=1.11.1 in /Users/aishwaryaraghavan/opt/anaconda3/lib/python3.7/site-packages (from tensorflow>=2.0.0a->mitdeeplearning) (1.11.2)\n",
            "Requirement already satisfied: keras-applications>=1.0.8 in /Users/aishwaryaraghavan/opt/anaconda3/lib/python3.7/site-packages (from tensorflow>=2.0.0a->mitdeeplearning) (1.0.8)\n",
            "Requirement already satisfied: gast==0.2.2 in /Users/aishwaryaraghavan/opt/anaconda3/lib/python3.7/site-packages (from tensorflow>=2.0.0a->mitdeeplearning) (0.2.2)\n",
            "Requirement already satisfied: protobuf>=3.6.1 in /Users/aishwaryaraghavan/opt/anaconda3/lib/python3.7/site-packages (from tensorflow>=2.0.0a->mitdeeplearning) (3.13.0)\n",
            "Requirement already satisfied: astor>=0.6.0 in /Users/aishwaryaraghavan/opt/anaconda3/lib/python3.7/site-packages (from tensorflow>=2.0.0a->mitdeeplearning) (0.8.1)\n",
            "Requirement already satisfied: future in /Users/aishwaryaraghavan/opt/anaconda3/lib/python3.7/site-packages (from pyglet<=1.5.0,>=1.4.0->gym->mitdeeplearning) (0.18.2)\n",
            "Requirement already satisfied: setuptools>=41.0.0 in /Users/aishwaryaraghavan/opt/anaconda3/lib/python3.7/site-packages (from tensorboard<2.1.0,>=2.0.0->tensorflow>=2.0.0a->mitdeeplearning) (49.2.0.post20200714)\n",
            "Requirement already satisfied: werkzeug>=0.11.15 in /Users/aishwaryaraghavan/opt/anaconda3/lib/python3.7/site-packages (from tensorboard<2.1.0,>=2.0.0->tensorflow>=2.0.0a->mitdeeplearning) (1.0.1)\n",
            "Requirement already satisfied: markdown>=2.6.8 in /Users/aishwaryaraghavan/opt/anaconda3/lib/python3.7/site-packages (from tensorboard<2.1.0,>=2.0.0->tensorflow>=2.0.0a->mitdeeplearning) (3.3.1)\n",
            "Requirement already satisfied: h5py in /Users/aishwaryaraghavan/opt/anaconda3/lib/python3.7/site-packages (from keras-applications>=1.0.8->tensorflow>=2.0.0a->mitdeeplearning) (2.10.0)\n",
            "Requirement already satisfied: importlib-metadata; python_version < \"3.8\" in /Users/aishwaryaraghavan/opt/anaconda3/lib/python3.7/site-packages (from markdown>=2.6.8->tensorboard<2.1.0,>=2.0.0->tensorflow>=2.0.0a->mitdeeplearning) (1.7.0)\n",
            "Requirement already satisfied: zipp>=0.5 in /Users/aishwaryaraghavan/opt/anaconda3/lib/python3.7/site-packages (from importlib-metadata; python_version < \"3.8\"->markdown>=2.6.8->tensorboard<2.1.0,>=2.0.0->tensorflow>=2.0.0a->mitdeeplearning) (3.1.0)\n",
            "Note: you may need to restart the kernel to use updated packages.\n"
          ],
          "name": "stdout"
        }
      ]
    },
    {
      "cell_type": "code",
      "metadata": {
        "colab": {
          "base_uri": "https://localhost:8080/"
        },
        "id": "LkaimNJfYZ2w",
        "outputId": "2b3f3988-3c52-44cc-8938-dc19a005ca58"
      },
      "source": [
        "# %tensorflow_version 2.x\n",
        "import tensorflow as tf\n",
        "\n",
        "# Download and import the MIT 6.S191 package\n",
        "!pip install mitdeeplearning\n",
        "import mitdeeplearning as mdl\n",
        "\n",
        "import numpy as np\n",
        "import matplotlib.pyplot as plt"
      ],
      "execution_count": 1,
      "outputs": [
        {
          "output_type": "stream",
          "text": [
            "Collecting mitdeeplearning\n",
            "\u001b[?25l  Downloading https://files.pythonhosted.org/packages/8b/3b/b9174b68dc10832356d02a2d83a64b43a24f1762c172754407d22fc8f960/mitdeeplearning-0.1.2.tar.gz (2.1MB)\n",
            "\u001b[K     |████████████████████████████████| 2.1MB 20.4MB/s \n",
            "\u001b[?25hRequirement already satisfied: numpy in /usr/local/lib/python3.6/dist-packages (from mitdeeplearning) (1.19.4)\n",
            "Requirement already satisfied: regex in /usr/local/lib/python3.6/dist-packages (from mitdeeplearning) (2019.12.20)\n",
            "Requirement already satisfied: tqdm in /usr/local/lib/python3.6/dist-packages (from mitdeeplearning) (4.41.1)\n",
            "Requirement already satisfied: gym in /usr/local/lib/python3.6/dist-packages (from mitdeeplearning) (0.17.3)\n",
            "Requirement already satisfied: cloudpickle<1.7.0,>=1.2.0 in /usr/local/lib/python3.6/dist-packages (from gym->mitdeeplearning) (1.3.0)\n",
            "Requirement already satisfied: pyglet<=1.5.0,>=1.4.0 in /usr/local/lib/python3.6/dist-packages (from gym->mitdeeplearning) (1.5.0)\n",
            "Requirement already satisfied: scipy in /usr/local/lib/python3.6/dist-packages (from gym->mitdeeplearning) (1.4.1)\n",
            "Requirement already satisfied: future in /usr/local/lib/python3.6/dist-packages (from pyglet<=1.5.0,>=1.4.0->gym->mitdeeplearning) (0.16.0)\n",
            "Building wheels for collected packages: mitdeeplearning\n",
            "  Building wheel for mitdeeplearning (setup.py) ... \u001b[?25l\u001b[?25hdone\n",
            "  Created wheel for mitdeeplearning: filename=mitdeeplearning-0.1.2-cp36-none-any.whl size=2114587 sha256=48c2979c078a24d5b2fd60f8081faa67b28418e82893b588e8f548eb7223066f\n",
            "  Stored in directory: /root/.cache/pip/wheels/27/e1/73/5f01c787621d8a3c857f59876c79e304b9b64db9ff5bd61b74\n",
            "Successfully built mitdeeplearning\n",
            "Installing collected packages: mitdeeplearning\n",
            "Successfully installed mitdeeplearning-0.1.2\n"
          ],
          "name": "stdout"
        }
      ]
    },
    {
      "cell_type": "markdown",
      "metadata": {
        "id": "2QNMcdP4m3Vs"
      },
      "source": [
        "## 1.1 Why is TensorFlow called TensorFlow?\n",
        "\n",
        "TensorFlow is called 'TensorFlow' because it handles the flow (node/mathematical operation) of Tensors, which are data structures that you can think of as multi-dimensional arrays. Tensors are represented as n-dimensional arrays of base dataypes such as a string or integer -- they provide a way to generalize vectors and matrices to higher dimensions.\n",
        "\n",
        "The ```shape``` of a Tensor defines its number of dimensions and the size of each dimension. The ```rank``` of a Tensor provides the number of dimensions (n-dimensions) -- you can also think of this as the Tensor's order or degree.\n",
        "\n",
        "Let's first look at 0-d Tensors, of which a scalar is an example:"
      ]
    },
    {
      "cell_type": "code",
      "metadata": {
        "colab": {
          "base_uri": "https://localhost:8080/"
        },
        "id": "tFxztZQInlAB",
        "outputId": "abd732aa-98aa-4ace-b23a-b5940f617977"
      },
      "source": [
        "sport = tf.constant(\"Tennis\", tf.string)\n",
        "number = tf.constant(1.41421356237, tf.float64)\n",
        "\n",
        "print(\"`sport` is a {}-d Tensor\".format(tf.rank(sport).numpy()))\n",
        "print(\"`number` is a {}-d Tensor\".format(tf.rank(number).numpy()))"
      ],
      "execution_count": 2,
      "outputs": [
        {
          "output_type": "stream",
          "text": [
            "`sport` is a 0-d Tensor\n",
            "`number` is a 0-d Tensor\n"
          ],
          "name": "stdout"
        }
      ]
    },
    {
      "cell_type": "markdown",
      "metadata": {
        "id": "-dljcPUcoJZ6"
      },
      "source": [
        "Vectors and lists can be used to create 1-d Tensors:"
      ]
    },
    {
      "cell_type": "code",
      "metadata": {
        "colab": {
          "base_uri": "https://localhost:8080/"
        },
        "id": "oaHXABe8oPcO",
        "outputId": "ca76a251-46a0-4580-c3c3-abf31fcd1ae9"
      },
      "source": [
        "sports = tf.constant([\"Tennis\", \"Basketball\"], tf.string)\n",
        "numbers = tf.constant([3.141592, 1.414213, 2.71821], tf.float64)\n",
        "\n",
        "print(\"`sports` is a {}-d Tensor with shape: {}\".format(tf.rank(sports).numpy(), tf.shape(sports)))\n",
        "print(\"`numbers` is a {}-d Tensor with shape: {}\".format(tf.rank(numbers).numpy(), tf.shape(numbers)))"
      ],
      "execution_count": 3,
      "outputs": [
        {
          "output_type": "stream",
          "text": [
            "`sports` is a 1-d Tensor with shape: [2]\n",
            "`numbers` is a 1-d Tensor with shape: [3]\n"
          ],
          "name": "stdout"
        }
      ]
    },
    {
      "cell_type": "markdown",
      "metadata": {
        "id": "gvffwkvtodLP"
      },
      "source": [
        "Next we consider creating 2-d (i.e., matrices) and higher-rank Tensors. For examples, in future labs involving image processing and computer vision, we will use 4-d Tensors. Here the dimensions correspond to the number of example images in our batch, image height, image width, and the number of color channels."
      ]
    },
    {
      "cell_type": "code",
      "metadata": {
        "id": "tFeBBe1IouS3"
      },
      "source": [
        "### Defining higher-order Tensors ###\n",
        "\n",
        "'''TODO: Define a 2-d Tensor'''\n",
        "matrix = tf.constant([[1,2,3],[4,5,6]])\n",
        "\n",
        "assert isinstance(matrix, tf.Tensor), \"matrix must be a tf Tensor object\"\n",
        "assert tf.rank(matrix).numpy() == 2"
      ],
      "execution_count": 4,
      "outputs": []
    },
    {
      "cell_type": "code",
      "metadata": {
        "id": "Zv1fTn_Ya_cz"
      },
      "source": [
        "'''TODO: Define a 4-d Tensor.'''\n",
        "# Use tf.zeros to initialize a 4-d Tensor of zeros with size 10 x 256 x 256 x 3. \n",
        "#   You can think of this as 10 images where each image is RGB 256 x 256.\n",
        "images = tf.zeros([10,256,256,3])\n",
        "\n",
        "assert isinstance(images, tf.Tensor), \"matrix must be a tf Tensor object\"\n",
        "assert tf.rank(images).numpy() == 4, \"matrix must be of rank 4\"\n",
        "assert tf.shape(images).numpy().tolist() == [10, 256, 256, 3], \"matrix is incorrect shape\""
      ],
      "execution_count": 5,
      "outputs": []
    },
    {
      "cell_type": "markdown",
      "metadata": {
        "id": "wkaCDOGapMyl"
      },
      "source": [
        "As you have seen, the ```shape``` of a Tensor provides the number of elements in each Tensor dimension. The ```shape``` is quite useful, and we'll use it often. You can also use slicing to access subtensors within a higher-rank Tensor:"
      ]
    },
    {
      "cell_type": "code",
      "metadata": {
        "colab": {
          "base_uri": "https://localhost:8080/"
        },
        "id": "FhaufyObuLEG",
        "outputId": "1cd3de25-8700-491f-cdcc-74d7bf0a2abf"
      },
      "source": [
        "row_vector = matrix[1]\n",
        "column_vector = matrix[:,2]\n",
        "scalar = matrix[1, 2]\n",
        "\n",
        "print(\"`row_vector`: {}\".format(row_vector.numpy()))\n",
        "print(\"`column_vector`: {}\".format(column_vector.numpy()))\n",
        "print(\"`scalar`: {}\".format(scalar.numpy()))"
      ],
      "execution_count": 6,
      "outputs": [
        {
          "output_type": "stream",
          "text": [
            "`row_vector`: [4 5 6]\n",
            "`column_vector`: [3 6]\n",
            "`scalar`: 6\n"
          ],
          "name": "stdout"
        }
      ]
    },
    {
      "cell_type": "markdown",
      "metadata": {
        "id": "iD3VO-LZYZ2z"
      },
      "source": [
        "## 1.2 Computations on Tensors\n",
        "\n",
        "A convenient way to think about and visualize computations in TensorFlow is in terms of graphs. We can define this graph in terms of Tensors, which hold data, and the mathematical operations that act on these Tensors in some order. Let's look at a simple example, and define this computation using TensorFlow:\n",
        "\n",
        "![alt text](https://raw.githubusercontent.com/aamini/introtodeeplearning/master/lab1/img/add-graph.png)"
      ]
    },
    {
      "cell_type": "code",
      "metadata": {
        "colab": {
          "base_uri": "https://localhost:8080/"
        },
        "id": "X_YJrZsxYZ2z",
        "outputId": "5ef29428-9a8f-4db1-eddc-66df499f0bdb"
      },
      "source": [
        "# Create the nodes in the graph, and initialize values\n",
        "a = tf.constant(15)\n",
        "b = tf.constant(61)\n",
        "\n",
        "# Add them!\n",
        "c1 = tf.add(a,b)\n",
        "c2 = a + b # TensorFlow overrides the \"+\" operation so that it is able to act on Tensors\n",
        "print(c1)\n",
        "print(c2)"
      ],
      "execution_count": 7,
      "outputs": [
        {
          "output_type": "stream",
          "text": [
            "tf.Tensor(76, shape=(), dtype=int32)\n",
            "tf.Tensor(76, shape=(), dtype=int32)\n"
          ],
          "name": "stdout"
        }
      ]
    },
    {
      "cell_type": "markdown",
      "metadata": {
        "id": "Mbfv_QOiYZ23"
      },
      "source": [
        "Notice how we've created a computation graph consisting of TensorFlow operations, and how  the output is a Tensor with value 76 -- we've just created a computation graph consisting of operations, and it's executed them and given us back the result.\n",
        "\n",
        "Now let's consider a slightly more complicated example:\n",
        "\n",
        "![alt text](https://raw.githubusercontent.com/aamini/introtodeeplearning/master/lab1/img/computation-graph.png)\n",
        "\n",
        "Here, we take two inputs, `a, b`, and compute an output `e`. Each node in the graph represents an operation that takes some input, does some computation, and passes its output to another node.\n",
        "\n",
        "Let's define a simple function in TensorFlow to construct this computation function:"
      ]
    },
    {
      "cell_type": "code",
      "metadata": {
        "id": "PJnfzpWyYZ23",
        "scrolled": true
      },
      "source": [
        "### Defining Tensor computations ###\n",
        "\n",
        "# Construct a simple computation function\n",
        "def func(a,b):\n",
        "  '''TODO: Define the operation for c, d, e (use tf.add, tf.subtract, tf.multiply).'''\n",
        "  c = tf.add(a,b)\n",
        "  d = tf.subtract(b,1)\n",
        "  e = tf.multiply(c,d)\n",
        "  return e"
      ],
      "execution_count": 8,
      "outputs": []
    },
    {
      "cell_type": "markdown",
      "metadata": {
        "id": "AwrRfDMS2-oy"
      },
      "source": [
        "Now, we can call this function to execute the computation graph given some inputs `a,b`:"
      ]
    },
    {
      "cell_type": "code",
      "metadata": {
        "colab": {
          "base_uri": "https://localhost:8080/"
        },
        "id": "pnwsf8w2uF7p",
        "outputId": "10290a22-766f-4fce-cc88-aed4602c74ad"
      },
      "source": [
        "# Consider example values for a,b\n",
        "a, b = 1.5, 2.5\n",
        "# Execute the computation\n",
        "e_out = func(a,b)\n",
        "print(e_out)"
      ],
      "execution_count": 9,
      "outputs": [
        {
          "output_type": "stream",
          "text": [
            "tf.Tensor(6.0, shape=(), dtype=float32)\n"
          ],
          "name": "stdout"
        }
      ]
    },
    {
      "cell_type": "markdown",
      "metadata": {
        "id": "6HqgUIUhYZ29"
      },
      "source": [
        "Notice how our output is a Tensor with value defined by the output of the computation, and that the output has no shape as it is a single scalar value."
      ]
    },
    {
      "cell_type": "markdown",
      "metadata": {
        "id": "1h4o9Bb0YZ29"
      },
      "source": [
        "## 1.3 Neural networks in TensorFlow\n",
        "We can also define neural networks in TensorFlow. TensorFlow uses a high-level API called [Keras](https://www.tensorflow.org/guide/keras) that provides a powerful, intuitive framework for building and training deep learning models.\n",
        "\n",
        "Let's first consider the example of a simple perceptron defined by just one dense layer: $ y = \\sigma(Wx + b)$, where $W$ represents a matrix of weights, $b$ is a bias, $x$ is the input, $\\sigma$ is the sigmoid activation function, and $y$ is the output. We can also visualize this operation using a graph: \n",
        "\n",
        "![alt text](https://raw.githubusercontent.com/aamini/introtodeeplearning/master/lab1/img/computation-graph-2.png)\n",
        "\n",
        "Tensors can flow through abstract types called [```Layers```](https://www.tensorflow.org/api_docs/python/tf/keras/layers/Layer) -- the building blocks of neural networks. ```Layers``` implement common neural networks operations, and are used to update weights, compute losses, and define inter-layer connectivity. We will first define a ```Layer``` to implement the simple perceptron defined above."
      ]
    },
    {
      "cell_type": "code",
      "metadata": {
        "colab": {
          "base_uri": "https://localhost:8080/"
        },
        "id": "gWloOrqRO_6C",
        "outputId": "5cdc426a-28a2-4aee-9506-c5ac9c79c4b9"
      },
      "source": [
        "mdl"
      ],
      "execution_count": 10,
      "outputs": [
        {
          "output_type": "execute_result",
          "data": {
            "text/plain": [
              "<module 'mitdeeplearning' from '/usr/local/lib/python3.6/dist-packages/mitdeeplearning/__init__.py'>"
            ]
          },
          "metadata": {
            "tags": []
          },
          "execution_count": 10
        }
      ]
    },
    {
      "cell_type": "code",
      "metadata": {
        "colab": {
          "base_uri": "https://localhost:8080/"
        },
        "id": "HutbJk-1kHPh",
        "outputId": "a6c7f985-1ed1-4744-f4f5-4e4f60a0ef5e"
      },
      "source": [
        "### Defining a network Layer ###\n",
        "\n",
        "# n_output_nodes: number of output nodes\n",
        "# input_shape: shape of the input\n",
        "# x: input to the layer\n",
        "\n",
        "class OurDenseLayer(tf.keras.layers.Layer):\n",
        "  def __init__(self, n_output_nodes):\n",
        "    super(OurDenseLayer, self).__init__()\n",
        "    self.n_output_nodes = n_output_nodes\n",
        "\n",
        "  def build(self, input_shape):\n",
        "    d = int(input_shape[-1])\n",
        "    # Define and initialize parameters: a weight matrix W and bias b\n",
        "    # Note that parameter initialization is random!\n",
        "    self.W = self.add_weight(\"weight\", shape=[d, self.n_output_nodes]) # note the dimensionality\n",
        "    self.b = self.add_weight(\"bias\", shape=[1, self.n_output_nodes]) # note the dimensionality\n",
        "\n",
        "  def call(self, x):\n",
        "    '''TODO: define the operation for z (hint: use tf.matmul)'''\n",
        "    z = tf.add(tf.matmul(x,self.W), self.b)\n",
        "\n",
        "    '''TODO: define the operation for out (hint: use tf.sigmoid)'''\n",
        "    y = tf.sigmoid(z)\n",
        "    return y\n",
        "\n",
        "# Since layer parameters are initialized randomly, we will set a random seed for reproducibility\n",
        "tf.random.set_seed(1)\n",
        "layer = OurDenseLayer(3)\n",
        "layer.build((1,2))\n",
        "x_input = tf.constant([[1,2.]], shape=(1,2))\n",
        "y = layer.call(x_input)\n",
        "\n",
        "# test the output!\n",
        "print(y.numpy())\n",
        "mdl.lab1.test_custom_dense_layer_output(y)"
      ],
      "execution_count": 11,
      "outputs": [
        {
          "output_type": "stream",
          "text": [
            "[[0.2697859  0.45750412 0.66536945]]\n",
            "[PASS] test_custom_dense_layer_output\n"
          ],
          "name": "stdout"
        },
        {
          "output_type": "execute_result",
          "data": {
            "text/plain": [
              "True"
            ]
          },
          "metadata": {
            "tags": []
          },
          "execution_count": 11
        }
      ]
    },
    {
      "cell_type": "markdown",
      "metadata": {
        "id": "Jt1FgM7qYZ3D"
      },
      "source": [
        "Conveniently, TensorFlow has defined a number of ```Layers``` that are commonly used in neural networks, for example a [```Dense```](https://www.tensorflow.org/api_docs/python/tf/keras/layers/Dense?version=stable). Now, instead of using a single ```Layer``` to define our simple neural network, we'll use the  [`Sequential`](https://www.tensorflow.org/versions/r2.0/api_docs/python/tf/keras/Sequential) model from Keras and a single [`Dense` ](https://www.tensorflow.org/versions/r2.0/api_docs/python/tf/keras/layers/Dense) layer to define our network. With the `Sequential` API, you can readily create neural networks by stacking together layers like building blocks. "
      ]
    },
    {
      "cell_type": "code",
      "metadata": {
        "id": "7WXTpmoL6TDz"
      },
      "source": [
        "### Defining a neural network using the Sequential API ###\n",
        "\n",
        "# Import relevant packages\n",
        "from tensorflow.keras import Sequential\n",
        "from tensorflow.keras.layers import Dense\n",
        "\n",
        "# Define the number of outputs\n",
        "n_output_nodes = 3\n",
        "\n",
        "# First define the model \n",
        "model = Sequential()\n",
        "\n",
        "'''TODO: Define a dense (fully connected) layer to compute z'''\n",
        "# Remember: dense layers are defined by the parameters W and b!\n",
        "# You can read more about the initialization of W and b in the TF documentation :) \n",
        "# https://www.tensorflow.org/api_docs/python/tf/keras/layers/Dense?version=stable\n",
        "dense_layer = Dense(n_output_nodes,  activation='sigmoid')\n",
        "\n",
        "# Add the dense layer to the model\n",
        "model.add(dense_layer)\n"
      ],
      "execution_count": 13,
      "outputs": []
    },
    {
      "cell_type": "markdown",
      "metadata": {
        "id": "HDGcwYfUyR-U"
      },
      "source": [
        "That's it! We've defined our model using the Sequential API. Now, we can test it out using an example input:"
      ]
    },
    {
      "cell_type": "code",
      "metadata": {
        "colab": {
          "base_uri": "https://localhost:8080/"
        },
        "id": "sg23OczByRDb",
        "outputId": "ea10eed3-04cd-4b21-8b60-996f1c70c121"
      },
      "source": [
        "# Test model with example input\n",
        "x_input = tf.constant([[1,2.]], shape=(1,2))\n",
        "\n",
        "'''TODO: feed input into the model and predict the output!'''\n",
        "model_output = model(x_input).numpy()\n",
        "print(model_output)"
      ],
      "execution_count": 14,
      "outputs": [
        {
          "output_type": "stream",
          "text": [
            "[[0.5607363 0.6566898 0.1249697]]\n"
          ],
          "name": "stdout"
        }
      ]
    },
    {
      "cell_type": "markdown",
      "metadata": {
        "id": "596NvsOOtr9F"
      },
      "source": [
        "In addition to defining models using the `Sequential` API, we can also define neural networks by directly subclassing the [`Model`](https://www.tensorflow.org/api_docs/python/tf/keras/Model?version=stable) class, which groups layers together to enable model training and inference. The `Model` class captures what we refer to as a \"model\" or as a \"network\". Using Subclassing, we can create a class for our model, and then define the forward pass through the network using the `call` function. Subclassing affords the flexibility to define custom layers, custom training loops, custom activation functions, and custom models. Let's define the same neural network as above now using Subclassing rather than the `Sequential` model."
      ]
    },
    {
      "cell_type": "code",
      "metadata": {
        "id": "K4aCflPVyViD"
      },
      "source": [
        "### Defining a model using subclassing ###\n",
        "\n",
        "from tensorflow.keras import Model\n",
        "from tensorflow.keras.layers import Dense\n",
        "\n",
        "class SubclassModel(tf.keras.Model):\n",
        "\n",
        "  # In __init__, we define the Model's layers\n",
        "  def __init__(self, n_output_nodes):\n",
        "    super(SubclassModel, self).__init__()\n",
        "    '''TODO: Our model consists of a single Dense layer. Define this layer.''' \n",
        "    self.dense_layer = Dense(n_output_nodes, activation='sigmoid')\n",
        "\n",
        "  # In the call function, we define the Model's forward pass.\n",
        "  def call(self, inputs):\n",
        "    return self.dense_layer(inputs)"
      ],
      "execution_count": 15,
      "outputs": []
    },
    {
      "cell_type": "markdown",
      "metadata": {
        "id": "U0-lwHDk4irB"
      },
      "source": [
        "Just like the model we built using the `Sequential` API, let's test out our `SubclassModel` using an example input.\n",
        "\n"
      ]
    },
    {
      "cell_type": "code",
      "metadata": {
        "colab": {
          "base_uri": "https://localhost:8080/"
        },
        "id": "LhB34RA-4gXb",
        "outputId": "fa3329cc-afb5-4c32-d3a3-01c91076433e"
      },
      "source": [
        "n_output_nodes = 3\n",
        "model = SubclassModel(n_output_nodes)\n",
        "\n",
        "x_input = tf.constant([[1,2.]], shape=(1,2))\n",
        "\n",
        "print(model.call(x_input))"
      ],
      "execution_count": 16,
      "outputs": [
        {
          "output_type": "stream",
          "text": [
            "tf.Tensor([[0.6504887  0.47828162 0.8373661 ]], shape=(1, 3), dtype=float32)\n"
          ],
          "name": "stdout"
        }
      ]
    },
    {
      "cell_type": "markdown",
      "metadata": {
        "id": "HTIFMJLAzsyE"
      },
      "source": [
        "Importantly, Subclassing affords us a lot of flexibility to define custom models. For example, we can use boolean arguments in the `call` function to specify different network behaviors, for example different behaviors during training and inference. Let's suppose under some instances we want our network to simply output the input, without any perturbation. We define a boolean argument `isidentity` to control this behavior:"
      ]
    },
    {
      "cell_type": "code",
      "metadata": {
        "id": "P7jzGX5D1xT5"
      },
      "source": [
        "### Defining a model using subclassing and specifying custom behavior ###\n",
        "\n",
        "from tensorflow.keras import Model\n",
        "from tensorflow.keras.layers import Dense\n",
        "\n",
        "class IdentityModel(tf.keras.Model):\n",
        "\n",
        "  # As before, in __init__ we define the Model's layers\n",
        "  # Since our desired behavior involves the forward pass, this part is unchanged\n",
        "  def __init__(self, n_output_nodes):\n",
        "    super(IdentityModel, self).__init__()\n",
        "    self.dense_layer = tf.keras.layers.Dense(n_output_nodes, activation='sigmoid')\n",
        "\n",
        "  '''TODO: Implement the behavior where the network outputs the input, unchanged, \n",
        "      under control of the isidentity argument.'''\n",
        "  def call(self, inputs, isidentity=False):\n",
        "    x = self.dense_layer(inputs)\n",
        "    '''TODO: Implement identity behavior'''\n",
        "    if isidentity:\n",
        "      return inputs\n",
        "    else:\n",
        "      return x"
      ],
      "execution_count": 18,
      "outputs": []
    },
    {
      "cell_type": "markdown",
      "metadata": {
        "id": "Ku4rcCGx5T3y"
      },
      "source": [
        "Let's test this behavior:"
      ]
    },
    {
      "cell_type": "code",
      "metadata": {
        "colab": {
          "base_uri": "https://localhost:8080/"
        },
        "id": "NzC0mgbk5dp2",
        "outputId": "dd76c1a0-1321-426f-9404-c69de8526845"
      },
      "source": [
        "n_output_nodes = 3\n",
        "model = IdentityModel(n_output_nodes)\n",
        "\n",
        "x_input = tf.constant([[1,2.]], shape=(1,2))\n",
        "'''TODO: pass the input into the model and call with and without the input identity option.'''\n",
        "out_activate = model.call(x_input, isidentity=True)\n",
        "out_identity = model.call(x_input)\n",
        "\n",
        "print(\"Network output with activation: {}; network identity output: {}\".format(out_activate.numpy(), out_identity.numpy()))"
      ],
      "execution_count": 20,
      "outputs": [
        {
          "output_type": "stream",
          "text": [
            "Network output with activation: [[1. 2.]]; network identity output: [[0.29996255 0.62776643 0.48460072]]\n"
          ],
          "name": "stdout"
        }
      ]
    },
    {
      "cell_type": "markdown",
      "metadata": {
        "id": "7V1dEqdk6VI5"
      },
      "source": [
        "Now that we have learned how to define `Layers` as well as neural networks in TensorFlow using both the `Sequential` and Subclassing APIs, we're ready to turn our attention to how to actually implement network training with backpropagation."
      ]
    },
    {
      "cell_type": "markdown",
      "metadata": {
        "id": "dQwDhKn8kbO2"
      },
      "source": [
        "## 1.4 Automatic differentiation in TensorFlow\n",
        "\n",
        "[Automatic differentiation](https://en.wikipedia.org/wiki/Automatic_differentiation)\n",
        "is one of the most important parts of TensorFlow and is the backbone of training with \n",
        "[backpropagation](https://en.wikipedia.org/wiki/Backpropagation). We will use the TensorFlow GradientTape [`tf.GradientTape`](https://www.tensorflow.org/api_docs/python/tf/GradientTape?version=stable) to trace operations for computing gradients later. \n",
        "\n",
        "When a forward pass is made through the network, all forward-pass operations get recorded to a \"tape\"; then, to compute the gradient, the tape is played backwards. By default, the tape is discarded after it is played backwards; this means that a particular `tf.GradientTape` can only\n",
        "compute one gradient, and subsequent calls throw a runtime error. However, we can compute multiple gradients over the same computation by creating a ```persistent``` gradient tape. \n",
        "\n",
        "First, we will look at how we can compute gradients using GradientTape and access them for computation. We define the simple function $ y = x^2$ and compute the gradient:"
      ]
    },
    {
      "cell_type": "code",
      "metadata": {
        "id": "tdkqk8pw5yJM"
      },
      "source": [
        "### Gradient computation with GradientTape ###\n",
        "\n",
        "# y = x^2\n",
        "# Example: x = 3.0\n",
        "x = tf.Variable(3.0)\n",
        "\n",
        "# Initiate the gradient tape\n",
        "with tf.GradientTape() as tape:\n",
        "  # Define the function\n",
        "  y = x * x\n",
        "# Access the gradient -- derivative of y with respect to x\n",
        "dy_dx = tape.gradient(y, x)\n",
        "\n",
        "assert dy_dx.numpy() == 6.0"
      ],
      "execution_count": 21,
      "outputs": []
    },
    {
      "cell_type": "markdown",
      "metadata": {
        "id": "JhU5metS5xF3"
      },
      "source": [
        "In training neural networks, we use differentiation and stochastic gradient descent (SGD) to optimize a loss function. Now that we have a sense of how `GradientTape` can be used to compute and access derivatives, we will look at an example where we use automatic differentiation and SGD to find the minimum of $L=(x-x_f)^2$. Here $x_f$ is a variable for a desired value we are trying to optimize for; $L$ represents a loss that we are trying to  minimize. While we can clearly solve this problem analytically ($x_{min}=x_f$), considering how we can compute this using `GradientTape` sets us up nicely for future labs where we use gradient descent to optimize entire neural network losses."
      ]
    },
    {
      "cell_type": "code",
      "metadata": {
        "attributes": {
          "classes": [
            "py"
          ],
          "id": ""
        },
        "colab": {
          "base_uri": "https://localhost:8080/",
          "height": 313
        },
        "id": "7g1yWiSXqEf-",
        "outputId": "a7832ca4-da6a-405c-88b2-2b58cc61f4a2"
      },
      "source": [
        "### Function minimization with automatic differentiation and SGD ###\n",
        "\n",
        "# Initialize a random value for our initial x\n",
        "x = tf.Variable([tf.random.normal([1])])\n",
        "print(\"Initializing x={}\".format(x.numpy()))\n",
        "\n",
        "learning_rate = 1e-2 # learning rate for SGD\n",
        "history = []\n",
        "# Define the target value\n",
        "x_f = 4\n",
        "\n",
        "# We will run SGD for a number of iterations. At each iteration, we compute the loss, \n",
        "#   compute the derivative of the loss with respect to x, and perform the SGD update.\n",
        "for i in range(500):\n",
        "  with tf.GradientTape() as tape:\n",
        "    '''TODO: define the loss as described above'''\n",
        "    loss = (x - x_f)**2\n",
        "\n",
        "  # loss minimization using gradient tape\n",
        "  grad = tape.gradient(loss, x) # compute the derivative of the loss with respect to x\n",
        "  new_x = x - learning_rate*grad # sgd update\n",
        "  x.assign(new_x) # update the value of x\n",
        "  history.append(x.numpy()[0])\n",
        "\n",
        "# Plot the evolution of x as we optimize towards x_f!\n",
        "plt.plot(history)\n",
        "plt.plot([0, 500],[x_f,x_f])\n",
        "plt.legend(('Predicted', 'True'))\n",
        "plt.xlabel('Iteration')\n",
        "plt.ylabel('x value')"
      ],
      "execution_count": 22,
      "outputs": [
        {
          "output_type": "stream",
          "text": [
            "Initializing x=[[-1.1771783]]\n"
          ],
          "name": "stdout"
        },
        {
          "output_type": "execute_result",
          "data": {
            "text/plain": [
              "Text(0, 0.5, 'x value')"
            ]
          },
          "metadata": {
            "tags": []
          },
          "execution_count": 22
        },
        {
          "output_type": "display_data",
          "data": {
            "image/png": "[encoded data removed]",
            "text/plain": [
              "<Figure size 432x288 with 1 Axes>"
            ]
          },
          "metadata": {
            "tags": [],
            "needs_background": "light"
          }
        }
      ]
    },
    {
      "cell_type": "markdown",
      "metadata": {
        "id": "pC7czCwk3ceH"
      },
      "source": [
        "`GradientTape` provides an extremely flexible framework for automatic differentiation. In order to back propagate errors through a neural network, we track forward passes on the Tape, use this information to determine the gradients, and then use these gradients for optimization using SGD."
      ]
    }
  ]
}